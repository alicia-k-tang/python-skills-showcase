{
 "cells": [
  {
   "cell_type": "markdown",
   "id": "e34fe782",
   "metadata": {},
   "source": [
    "## Python Quiz"
   ]
  },
  {
   "cell_type": "markdown",
   "id": "f133753b",
   "metadata": {},
   "source": [
    "### QSet1 - recursive functions - Find if an integer is present in array of integers"
   ]
  },
  {
   "cell_type": "code",
   "execution_count": 1,
   "id": "29bb11a2",
   "metadata": {},
   "outputs": [],
   "source": [
    "class Solution:\n",
    "        \n",
    "    # Returns index of x in arr if present, else -1\n",
    "    def binary_search(self, arr, low, high, x):\n",
    "    \n",
    "        # Check base case\n",
    "        if high >= low:\n",
    "    \n",
    "            mid = (high + low) // 2\n",
    "    \n",
    "            # If element is present at the middle itself            \n",
    "            if arr[mid] == x:\n",
    "                ##### Q1 Return the mid value\n",
    "               return mid\n",
    "    \n",
    "            # If element is smaller than mid, then it can only\n",
    "            # be present in left subarray\n",
    "            elif arr[mid] > x:\n",
    "                return self.binary_search(arr, low, mid - 1, x)\n",
    "    \n",
    "            # Else the element can only be present in right subarray\n",
    "            else:\n",
    "                ##### Q2 Return the recurisive function call with proper arguments\n",
    "                return self.binary_search(arr, mid + 1, high, x)\n",
    "    \n",
    "        else:\n",
    "            # Element is not present in the array\n",
    "            return -1\n",
    "    "
   ]
  },
  {
   "cell_type": "code",
   "execution_count": 2,
   "id": "5843ca5d",
   "metadata": {},
   "outputs": [
    {
     "name": "stdout",
     "output_type": "stream",
     "text": [
      "Element is present at index 4\n"
     ]
    }
   ],
   "source": [
    "# Test for QSet1 - binary_search\n",
    "arr = [-1,0,3,5,9,12]\n",
    "x = 9  #Find if 9 is present in above arr, if so at which location\n",
    "\n",
    "#Instantiate the class\n",
    "mySearch = Solution()\n",
    "\n",
    "# Function call on the class\n",
    "result = mySearch.binary_search(arr, 0, len(arr)-1, x)\n",
    "\n",
    "if result != -1:\n",
    "    print(\"Element is present at index\", str(result))\n",
    "else:\n",
    "    print(\"Element is not present in array\")"
   ]
  },
  {
   "cell_type": "markdown",
   "id": "8380fbb0",
   "metadata": {},
   "source": [
    "### QSet2 - regular expressions"
   ]
  },
  {
   "cell_type": "code",
   "execution_count": 3,
   "id": "772e5f91",
   "metadata": {},
   "outputs": [
    {
     "data": {
      "text/plain": [
       "['Simple', 'is', 'better', 'than', 'complex.']"
      ]
     },
     "execution_count": 3,
     "metadata": {},
     "output_type": "execute_result"
    }
   ],
   "source": [
    "import re\n",
    "string=\"Simple is better than complex.\"\n",
    "\n",
    "##### Q3 Split the string above in a array of words using re package\n",
    "obj = re.split(r'\\s+', string)\n",
    "\n",
    "obj"
   ]
  },
  {
   "cell_type": "code",
   "execution_count": 4,
   "id": "26872878",
   "metadata": {},
   "outputs": [
    {
     "name": "stdout",
     "output_type": "stream",
     "text": [
      "alice-b@google.com\n"
     ]
    }
   ],
   "source": [
    "string = 'You are signed up to receive a daily report of some notifications from your Canvas account alice-b@google.com. \\\n",
    "          Below is the report for May 7'\n",
    "\n",
    "##### Q4 extract and print the email from string above\n",
    "match = re.search(r'\\b[A-Za-z0-9._%+-]+@[A-Za-z0-9.-]+\\.[A-Z|a-z]{2,}\\b', string)\n",
    "\n",
    "if match:\n",
    "    print(match.group())  "
   ]
  },
  {
   "cell_type": "code",
   "execution_count": 5,
   "id": "8868efff",
   "metadata": {},
   "outputs": [
    {
     "name": "stdout",
     "output_type": "stream",
     "text": [
      "company1\n",
      "company3\n"
     ]
    }
   ],
   "source": [
    "import re\n",
    "string = '''Email_Address,Nickname,Group_Status,Join_Year\n",
    "        aName@company1.com,aa,Owner,2014\n",
    "        bName@company3.com,bb,Member,2015\n",
    "        cName@org1.org,cc,Member,2017\n",
    "        dName@org2.gov,dd,Member,2016\n",
    "        eName@school1.edu,ee,Member,2020'''\n",
    "\n",
    "##### Q5 Extract only the domain names from the email addresses ending in .com (do not extract .gov, .org, .edu)\n",
    "matches = re.findall(r'@([A-Za-z0-9.-]+)\\.com', string) # Extracting the domain names.\n",
    "\n",
    "# Print the domain name separately without the \".com\" suffix. \n",
    "for match in matches:\n",
    "    print(match)"
   ]
  },
  {
   "cell_type": "code",
   "execution_count": 6,
   "id": "9ec53606",
   "metadata": {},
   "outputs": [
    {
     "name": "stdout",
     "output_type": "stream",
     "text": [
      "['Betty', 'Botter', 'butter', 'but', 'butter', 'bitter', 'batter', 'batter', 'bitter', 'but', 'bit', 'better', 'butter', 'batter', 'better', 'bit', 'butter', 'better', 'bitter', 'butter', 'batter', 'batter', 'bitter', 'better', 'Betty', 'Botter', 'bit', 'better', 'butter']\n",
      "29\n"
     ]
    }
   ],
   "source": [
    "import re\n",
    "\n",
    "myString = f'''Betty Botter bought some butter,but the butter, it was bitter.\n",
    "        If she put it in her batter, it would make her batter bitter,\n",
    "        but a bit of better butter, that would make her batter better.\n",
    "        So, she bought a bit of butter, better than her bitter butter,\n",
    "        And she put it in her batter, and her batter was not bitter.\n",
    "        So, T'was better Betty Botter bought a bit of better butter.'''\n",
    "\n",
    "##### Q6 - Count in myString the number of words that starts with b or B and the 3rd letter is t or T\n",
    "\n",
    "pattern = r'\\b[bB]\\w{1}t\\w*\\b'\n",
    "matches = re.findall(pattern, myString, re.IGNORECASE) #TODO-6\n",
    "\n",
    "# Print only the first 3 letters of each matched word\n",
    "print(matches)\n",
    "print(len(matches))"
   ]
  },
  {
   "cell_type": "markdown",
   "id": "1bd7a605",
   "metadata": {},
   "source": [
    "### QSet3  - Unique List Items"
   ]
  },
  {
   "cell_type": "code",
   "execution_count": 7,
   "id": "dfdb963c",
   "metadata": {},
   "outputs": [],
   "source": [
    "##### Q7 - Write a function that takes one argument of type List (aList) \n",
    "# and returns a List back after removing all dupliments elements or valures\n",
    "def unique(aList):\n",
    "    # Using a set so we can remove duplicates.\n",
    "    unique_set = set(aList)\n",
    "    unique_list = sorted(unique_set)\n",
    "\n",
    "    return unique_list\n"
   ]
  },
  {
   "cell_type": "code",
   "execution_count": 8,
   "id": "dfe3bb67",
   "metadata": {},
   "outputs": [
    {
     "data": {
      "text/plain": [
       "['Bet', 'Bot', 'bat', 'bet', 'bit', 'but']"
      ]
     },
     "execution_count": 8,
     "metadata": {},
     "output_type": "execute_result"
    }
   ],
   "source": [
    "#Test for Q7\n",
    "matches = ['Bet', 'Bot', 'but', 'but', 'but', 'bit', 'bat', 'bat', 'bit', 'but', \n",
    "           'bit', 'bet', 'but', 'bat', 'bet', 'bit', 'but', 'bet', 'bit', 'but', \n",
    "           'bat', 'bat', 'bit', 'bet', 'Bet', 'Bot', 'bit', 'bet', 'but']\n",
    "matches=unique(matches)\n",
    "matches"
   ]
  },
  {
   "cell_type": "markdown",
   "id": "7fb9e4ec",
   "metadata": {},
   "source": [
    "### QSet4 -  comprehension"
   ]
  },
  {
   "cell_type": "code",
   "execution_count": 9,
   "id": "e5ff1d72",
   "metadata": {},
   "outputs": [
    {
     "name": "stdout",
     "output_type": "stream",
     "text": [
      "The original dictionary is : {'Sun': [5, 6, 7, 8], 'is': [10, 11, 7, 5], 'best': [6, 12, 10, 8], 'for': [1, 2, 5]}\n",
      "The unique values list is : [1, 2, 5, 6, 7, 8, 10, 11, 12]\n"
     ]
    }
   ],
   "source": [
    "# Extract Unique values dictionary values\n",
    "# Using set comprehension + values() + sorted()\n",
    " \n",
    "# initializing dictionary\n",
    "test_dict = {'Sun': [5, 6, 7, 8],\n",
    "             'is': [10, 11, 7, 5],\n",
    "             'best': [6, 12, 10, 8],\n",
    "             'for': [1, 2, 5]}\n",
    " \n",
    "# printing original dictionary\n",
    "print(\"The original dictionary is : \" + str(test_dict))\n",
    "\n",
    "##### Q8 Extract Unique values from all keys in the dictionary\n",
    "# Using set comprehension + values() + sorted()\n",
    "\n",
    "res = sorted({elem for val in test_dict.values() for elem in val})\n",
    " \n",
    "# printing result\n",
    "print(\"The unique values list is : \" + str(res))"
   ]
  },
  {
   "cell_type": "markdown",
   "id": "0adcecc0",
   "metadata": {},
   "source": [
    "### QSet5 - Datetime - convert string to date-time value"
   ]
  },
  {
   "cell_type": "code",
   "execution_count": 10,
   "id": "e8ef0088",
   "metadata": {},
   "outputs": [
    {
     "name": "stdout",
     "output_type": "stream",
     "text": [
      "2023-02-28 14:30:56\n"
     ]
    }
   ],
   "source": [
    "from datetime import datetime\n",
    "\n",
    "# Example with the standard date and time format\n",
    "date_str = 'Date 2023-02-28 Time 14:30:56'\n",
    "\n",
    "##### Q9 Write the synatx for date_format to convert above date_str variable to datetime object\n",
    "date_format = 'Date %Y-%m-%d Time %H:%M:%S'\n",
    "\n",
    "date_obj = datetime.strptime(date_str, date_format)\n",
    "print(date_obj)"
   ]
  },
  {
   "cell_type": "markdown",
   "id": "a8c2e36d",
   "metadata": {},
   "source": [
    "### QSet6 - Numpy"
   ]
  },
  {
   "cell_type": "code",
   "execution_count": 11,
   "id": "2b02835c",
   "metadata": {},
   "outputs": [
    {
     "name": "stdout",
     "output_type": "stream",
     "text": [
      "[[1. 0. 0. 0. 0.]\n",
      " [0. 1. 0. 0. 0.]\n",
      " [0. 0. 1. 0. 0.]\n",
      " [0. 0. 0. 1. 0.]\n",
      " [0. 0. 0. 0. 1.]]\n"
     ]
    }
   ],
   "source": [
    "import numpy as np\n",
    "\n",
    "##### Q10 create a identity matrix of order = 5 \n",
    "identity_matrix = np.eye(5)\n",
    "\n",
    "print(identity_matrix)"
   ]
  },
  {
   "cell_type": "code",
   "execution_count": 12,
   "id": "5ab5fed2",
   "metadata": {},
   "outputs": [
    {
     "data": {
      "text/plain": [
       "array([[0, 1, 2],\n",
       "       [1, 2, 3],\n",
       "       [5, 5, 7]])"
      ]
     },
     "execution_count": 12,
     "metadata": {},
     "output_type": "execute_result"
    }
   ],
   "source": [
    "train_set = np.array([[0, 1, 2], [1, 2, 3]])\n",
    "test_set = np.array([5, 5, 7])\n",
    "\n",
    "\n",
    "##### Q11- Join train and test dataset (both are two numpy arrays train_set and test_set) \n",
    "#        into a resulting array (resulting_set)\n",
    "\n",
    "resulting_set = np.vstack((train_set, test_set))\n",
    "resulting_set "
   ]
  },
  {
   "cell_type": "markdown",
   "id": "f14bd194",
   "metadata": {},
   "source": [
    "### QSet7 - pandas exercise"
   ]
  },
  {
   "cell_type": "code",
   "execution_count": 13,
   "id": "bdab0740",
   "metadata": {},
   "outputs": [],
   "source": [
    "import pandas as pd\n",
    "import statsmodels.api as sm\n",
    "import numpy as np"
   ]
  },
  {
   "cell_type": "code",
   "execution_count": 14,
   "id": "59aebe98",
   "metadata": {},
   "outputs": [
    {
     "name": "stdout",
     "output_type": "stream",
     "text": [
      "  col1  col2\n",
      "0    a     0\n",
      "1    b     1\n",
      "2    c     2\n",
      "3    e     3\n",
      "4    d     4\n"
     ]
    }
   ],
   "source": [
    "\n",
    "ser1 = pd.Series(list('abcedfghijklmnopqrstuvwxyz'))\n",
    "ser2 = pd.Series(np.arange(26))\n",
    "\n",
    "##### Q12 - Combine ser1 and ser2 to form a dataframe.\n",
    "\n",
    "df = pd.concat([ser1, ser2], axis=1)\n",
    "df.columns = ['col1', 'col2']\n",
    "print(df.head())\n"
   ]
  },
  {
   "cell_type": "code",
   "execution_count": 15,
   "id": "9c772d9c",
   "metadata": {},
   "outputs": [
    {
     "name": "stdout",
     "output_type": "stream",
     "text": [
      "   0  1  2  3  4\n",
      "0  7  1  7  7  3\n",
      "1  4  2  5  6  5\n",
      "2  4  4  6  7  5\n",
      "3  4  4  2  1  8\n",
      "4  4  1  2  7  3\n",
      "5  8  9  3  6  3\n",
      "6  9  9  1  9  5\n"
     ]
    }
   ],
   "source": [
    "\n",
    "ser = pd.Series(np.random.randint(1, 10, 35))\n",
    "\n",
    "##### Q13 Reshape the series ser into a dataframe with 7 rows and 5 columns\n",
    "df = pd.DataFrame(np.array(ser).reshape(7, 5))\n",
    "\n",
    "print(df)"
   ]
  },
  {
   "cell_type": "code",
   "execution_count": 16,
   "id": "c29f73b9",
   "metadata": {},
   "outputs": [
    {
     "name": "stdout",
     "output_type": "stream",
     "text": [
      "0    Apple\n",
      "dtype: object\n"
     ]
    }
   ],
   "source": [
    "ser = pd.Series(['Apple', 'ChatGPT3', 'Plan', 'Python', 'Stars'])\n",
    "\n",
    "##### Q14 From ser, extract words that contain atleast 2 vowels.\n",
    "\n",
    "two_vowels = ser[ser.apply(lambda x: sum(1 for char in x if char.lower() in 'aeiou') >= 2)]\n",
    "\n",
    "print(two_vowels)\n"
   ]
  },
  {
   "cell_type": "code",
   "execution_count": 17,
   "id": "04c2eb02",
   "metadata": {},
   "outputs": [
    {
     "name": "stdout",
     "output_type": "stream",
     "text": [
      "['rameses@egypt.com', 'alexandar@greece.co', 'chengiz@mongolia.com']\n"
     ]
    }
   ],
   "source": [
    "emails = pd.Series(['buying books at amazom.com', 'rameses@egypt.com', 'alexandar@greece.co', 'chengiz@mongolia.com'])\n",
    "\n",
    "##### Q15 Extract the valid emails from the series emails. The regex pattern for valid emails is provided as reference.\n",
    "\n",
    "import re\n",
    "pattern ='[A-Za-z0-9._%+-]+@[A-Za-z0-9.-]+\\\\.[A-Za-z]{2,4}'\n",
    "valid_emails = list(emails[emails.str.contains(pattern, regex=True)])\n",
    "\n",
    "print(valid_emails)"
   ]
  },
  {
   "cell_type": "code",
   "execution_count": 18,
   "id": "067a4fe7",
   "metadata": {},
   "outputs": [
    {
     "name": "stdout",
     "output_type": "stream",
     "text": [
      "18.16590212458495\n"
     ]
    }
   ],
   "source": [
    "p = pd.Series([1, 2, 3, 4, 5, 6, 7, 8, 9, 10])\n",
    "q = pd.Series([10, 9, 8, 7, 6, 5, 4, 3, 2, 1])\n",
    "\n",
    "##### Q16 Compute the euclidean distance between series (points) p and q\n",
    "euclidean_distance = np.linalg.norm(p - q)\n",
    "\n",
    "print(euclidean_distance)"
   ]
  },
  {
   "cell_type": "code",
   "execution_count": 19,
   "id": "6d899bd4",
   "metadata": {},
   "outputs": [
    {
     "name": "stdout",
     "output_type": "stream",
     "text": [
      "\n",
      "Series before filling missing dates:\n",
      "2000-01-01     1.0\n",
      "2000-01-03    10.0\n",
      "2000-01-06     3.0\n",
      "2000-01-08     NaN\n",
      "dtype: float64\n",
      "\n",
      "Series after filling missing dates:\n",
      "2000-01-01     1.0\n",
      "2000-01-02     1.0\n",
      "2000-01-03    10.0\n",
      "2000-01-04    10.0\n",
      "2000-01-05    10.0\n",
      "2000-01-06     3.0\n",
      "2000-01-07     3.0\n",
      "2000-01-08     3.0\n",
      "Freq: D, dtype: float64\n"
     ]
    }
   ],
   "source": [
    "ser = pd.Series([1,10,3,np.nan], index=pd.to_datetime(['2000-01-01', '2000-01-03', '2000-01-06', '2000-01-08']))\n",
    "print(\"\\nSeries before filling missing dates:\")\n",
    "print(ser)\n",
    "\n",
    "##### Q 17 ser has missing dates and values. Make all missing dates appear and fill up with value from previous date.\n",
    "# This gets all dates within the range of the original series provided.\n",
    "all_dates = pd.date_range(start=ser.index.min(), end=ser.index.max(), freq='D')\n",
    "\n",
    "# Using the \"ffill\" method fills in the missing values using the forward-fill method (takes the last value from the previous date to fill in values).\n",
    "filled_ser = ser.reindex(all_dates).ffill()\n",
    "\n",
    "print(\"\\nSeries after filling missing dates:\")\n",
    "print(filled_ser)"
   ]
  },
  {
   "cell_type": "code",
   "execution_count": 20,
   "id": "95bfc9d2",
   "metadata": {},
   "outputs": [
    {
     "name": "stdout",
     "output_type": "stream",
     "text": [
      "::\n",
      "\n",
      "    Number of observations - 944\n",
      "    Number of variables - 10\n",
      "\n",
      "    Variables name definitions::\n",
      "\n",
      "            popul - Census place population in 1000s\n",
      "            TVnews - Number of times per week that respondent watches TV news.\n",
      "            PID - Party identification of respondent.\n",
      "                0 - Strong Democrat\n",
      "                1 - Weak Democrat\n",
      "                2 - Independent-Democrat\n",
      "                3 - Independent-Indpendent\n",
      "                4 - Independent-Republican\n",
      "                5 - Weak Republican\n",
      "                6 - Strong Republican\n",
      "            age : Age of respondent.\n",
      "            educ - Education level of respondent\n",
      "                1 - 1-8 grades\n",
      "                2 - Some high school\n",
      "                3 - High school graduate\n",
      "                4 - Some college\n",
      "                5 - College degree\n",
      "                6 - Master's degree\n",
      "                7 - PhD\n",
      "            income - Income of household\n",
      "                1  - None or less than $2,999\n",
      "                2  - $3,000-$4,999\n",
      "                3  - $5,000-$6,999\n",
      "                4  - $7,000-$8,999\n",
      "                5  - $9,000-$9,999\n",
      "                6  - $10,000-$10,999\n",
      "                7  - $11,000-$11,999\n",
      "                8  - $12,000-$12,999\n",
      "                9  - $13,000-$13,999\n",
      "                10 - $14,000-$14.999\n",
      "                11 - $15,000-$16,999\n",
      "                12 - $17,000-$19,999\n",
      "                13 - $20,000-$21,999\n",
      "                14 - $22,000-$24,999\n",
      "                15 - $25,000-$29,999\n",
      "                16 - $30,000-$34,999\n",
      "                17 - $35,000-$39,999\n",
      "                18 - $40,000-$44,999\n",
      "                19 - $45,000-$49,999\n",
      "                20 - $50,000-$59,999\n",
      "                21 - $60,000-$74,999\n",
      "                22 - $75,000-89,999\n",
      "                23 - $90,000-$104,999\n",
      "                24 - $105,000 and over\n",
      "            vote - Expected vote\n",
      "                0 - Clinton\n",
      "                1 - Dole\n",
      "            The following 3 variables all take the values:\n",
      "                1 - Extremely liberal\n",
      "                2 - Liberal\n",
      "                3 - Slightly liberal\n",
      "                4 - Moderate\n",
      "                5 - Slightly conservative\n",
      "                6 - Conservative\n",
      "                7 - Extremely Conservative\n",
      "            selfLR - Respondent's self-reported political leanings from \"Left\"\n",
      "                to \"Right\".\n",
      "            ClinLR - Respondents impression of Bill Clinton's political\n",
      "                leanings from \"Left\" to \"Right\".\n",
      "            DoleLR  - Respondents impression of Bob Dole's political leanings\n",
      "                from \"Left\" to \"Right\".\n",
      "            logpopul - log(popul + .1)\n",
      "\n"
     ]
    }
   ],
   "source": [
    "import pandas as pd\n",
    "import statsmodels.api as sm\n",
    "import numpy as np\n",
    "\n",
    "anes96 = sm.datasets.anes96\n",
    "print(anes96.NOTE)\n",
    "\n",
    "dataset_anes96 = anes96.load_pandas()\n",
    "df = dataset_anes96.data\n"
   ]
  },
  {
   "cell_type": "code",
   "execution_count": 21,
   "id": "e9943bfb",
   "metadata": {},
   "outputs": [
    {
     "name": "stdout",
     "output_type": "stream",
     "text": [
      "Q18 and Q19: The Dataframe contains 944 observations and 11 columns.\n",
      "Q20: The youngest respondent is 19.0 years old, and the oldest respondent is 91.0 years old.\n",
      "Q21: The average respondent watches TV news 3.7 days a week.\n",
      "Q22: Are there any missing values? False\n",
      "There are no missing values.\n",
      "Q23: Column 'educ' has been renamed to 'education':\n",
      "   popul  TVnews  selfLR  ClinLR  DoleLR  PID   age  education  income  vote  \\\n",
      "0    0.0     7.0     7.0     1.0     6.0  6.0  36.0        3.0     1.0   1.0   \n",
      "1  190.0     1.0     3.0     3.0     5.0  1.0  20.0        4.0     1.0   0.0   \n",
      "2   31.0     7.0     2.0     2.0     6.0  1.0  24.0        6.0     1.0   0.0   \n",
      "3   83.0     4.0     3.0     4.0     5.0  1.0  28.0        6.0     1.0   0.0   \n",
      "4  640.0     7.0     5.0     6.0     4.0  0.0  68.0        6.0     1.0   0.0   \n",
      "\n",
      "   logpopul  \n",
      "0 -2.302585  \n",
      "1  5.247550  \n",
      "2  3.437208  \n",
      "3  4.420045  \n",
      "4  6.461624  \n"
     ]
    }
   ],
   "source": [
    "##### Q18-Q19-Q20-Q21-Q22-Q23 -Write pyhton code to answer below 6 questions (print the answer)\n",
    "\n",
    "#*   How many observations are in the DataFrame? \n",
    "#*   How many variables are measured (how many columns)?\n",
    "#*   What is the age of the youngest person in the data? The oldest?\n",
    "#*   How many days a week does the average respondent watch TV news (round to the nearest tenth)?\n",
    "#*   Check for missing values. Are there any?\n",
    "#*   Rename the educ column education.\n",
    "\n",
    "#TODO - Q18-Q19-Q20-Q21-Q22-Q23 Solution \n",
    "\n",
    "# Q18 - How many observations are in the DataFrame?\n",
    "num_observations = len(df)\n",
    "\n",
    "# Q19 - How many variables are measured (how many columns)?\n",
    "num_variables = len(df.columns)\n",
    "\n",
    "print(\"Q18 and Q19: The Dataframe contains\", num_observations, \"observations and\", num_variables, \"columns.\")\n",
    "\n",
    "# Q20 - What is the age of the youngest person in the data? The oldest?\n",
    "youngest_age = df['age'].min()\n",
    "oldest_age = df['age'].max()\n",
    "print(f\"Q20: The youngest respondent is {youngest_age} years old, and the oldest respondent is {oldest_age} years old.\")\n",
    "\n",
    "# Q21 - How many days a week does the average respondent watch TV news (round to the nearest tenth)?\n",
    "avg_tv_news_days = df['TVnews'].mean()\n",
    "print(\"Q21: The average respondent watches TV news\", round(avg_tv_news_days, 1), \"days a week.\")\n",
    "\n",
    "# Q22 - Check for missing values. Are there any?\n",
    "missing_values = df.isnull().any().any()\n",
    "print(\"Q22: Are there any missing values?\", missing_values)\n",
    "print(\"There are no missing values.\")\n",
    "\n",
    "# Q23 - Rename the educ column education.\n",
    "df.rename(columns={'educ': 'education'}, inplace=True)\n",
    "print(\"Q23: Column 'educ' has been renamed to 'education':\")\n",
    "print(df.head())"
   ]
  },
  {
   "cell_type": "code",
   "execution_count": 22,
   "id": "6daeadf6",
   "metadata": {},
   "outputs": [
    {
     "name": "stdout",
     "output_type": "stream",
     "text": [
      "Solution Q1\n",
      "           0         1         2         3         4         5         6  \\\n",
      "0  0.784182  0.240926  0.641878  1.485813  1.184698 -0.978819  0.305950   \n",
      "1 -1.265561  0.021902 -0.641878  0.243321  1.036611  1.680614  1.494784   \n",
      "2 -0.116463 -1.949313  0.353033 -0.792089  0.266557 -1.008368  1.424853   \n",
      "3 -1.451901  0.678974 -0.545596  0.036239 -1.006993 -0.092341 -1.092678   \n",
      "4 -0.023293 -0.985608  1.412131 -1.661833 -0.888523  0.380447 -0.463296   \n",
      "5 -0.178576  1.160827 -1.283756  0.450403  1.095845 -1.067467 -0.113639   \n",
      "6  1.343203  0.328536 -0.994911  0.864567 -0.947758  0.144053 -0.847918   \n",
      "7  0.908409  0.503755  1.059098 -0.626423 -0.740436  0.941882 -0.708056   \n",
      "\n",
      "          7         8         9  \n",
      "0 -0.583369 -1.251250  1.055496  \n",
      "1  0.466695 -0.107250  0.840819  \n",
      "2  0.350022  0.877861 -1.091276  \n",
      "3  1.400086 -0.488583 -1.735308  \n",
      "4 -0.272239 -1.441917  0.912378  \n",
      "5  0.700043  0.941417 -0.268347  \n",
      "6 -1.944564  0.305861  0.268347  \n",
      "7 -0.116674  1.163861  0.017890  \n",
      "Solution Q2\n",
      "           0         1         2         3         4         5         6  \\\n",
      "0  0.800000  0.704225  0.714286  1.000000  1.000000  0.032258  0.540541   \n",
      "1  0.066667  0.633803  0.238095  0.605263  0.932432  1.000000  1.000000   \n",
      "2  0.477778  0.000000  0.607143  0.276316  0.581081  0.021505  0.972973   \n",
      "3  0.000000  0.845070  0.273810  0.539474  0.000000  0.354839  0.000000   \n",
      "4  0.511111  0.309859  1.000000  0.000000  0.054054  0.526882  0.243243   \n",
      "5  0.455556  1.000000  0.000000  0.671053  0.959459  0.000000  0.378378   \n",
      "6  1.000000  0.732394  0.107143  0.802632  0.027027  0.440860  0.094595   \n",
      "7  0.844444  0.788732  0.869048  0.328947  0.121622  0.731183  0.148649   \n",
      "\n",
      "          7         8         9  \n",
      "0  0.406977  0.073171  1.000000  \n",
      "1  0.720930  0.512195  0.923077  \n",
      "2  0.686047  0.890244  0.230769  \n",
      "3  1.000000  0.365854  0.000000  \n",
      "4  0.500000  0.000000  0.948718  \n",
      "5  0.790698  0.914634  0.525641  \n",
      "6  0.000000  0.670732  0.717949  \n",
      "7  0.546512  1.000000  0.628205  \n"
     ]
    }
   ],
   "source": [
    "df = pd.DataFrame(np.random.randint(1,100, 80).reshape(8, -1))\n",
    "\n",
    "##### Q24 Don’t use external packages like sklearn.\n",
    "\n",
    "#TODO 24\n",
    "# Normalize all columns of df by subtracting the column mean and divide by standard deviation.\n",
    "out1 = (df - df.mean()) / df.std()\n",
    "print('Solution Q1\\n',out1)\n",
    "\n",
    "#TODO 25\n",
    "# Range all columns of df such that the minimum value in each column is 0 and max is 1.\n",
    "out2 = (df - df.min()) / (df.max() - df.min())\n",
    "print('Solution Q2\\n', out2)  "
   ]
  },
  {
   "cell_type": "code",
   "execution_count": 23,
   "id": "a827222d",
   "metadata": {},
   "outputs": [
    {
     "name": "stdout",
     "output_type": "stream",
     "text": [
      "    fruit weight  price   fruta  kilo  precio\n",
      "0   apple   high     11   apple  high       2\n",
      "1   apple   high      4   apple  high       2\n",
      "2   apple   high      9   apple  high       2\n",
      "3  orange    low     13  orange   low       6\n",
      "4  orange    low      4  orange   low       6\n",
      "5  orange    low      0  orange   low       6\n"
     ]
    }
   ],
   "source": [
    "df1 = pd.DataFrame({'fruit': ['apple', 'banana', 'orange'] * 3,\n",
    "                    'weight': ['high', 'medium', 'low'] * 3,\n",
    "                    'price': np.random.randint(0, 15, 9)})\n",
    "\n",
    "df2 = pd.DataFrame({'fruta': ['apple', 'orange', 'pine'] * 2,\n",
    "                    'kilo': ['high', 'low'] * 3,\n",
    "                    'precio': np.random.randint(0, 15, 6)})\n",
    "\n",
    "##### Q26 Join dataframes df1 and df2 by ‘fruit-’ and ‘weight-kilo’.\n",
    "joined_df = pd.merge(df1, df2, left_on=['fruit', 'weight'], right_on=['fruta', 'kilo'])\n",
    "print(joined_df)"
   ]
  },
  {
   "cell_type": "code",
   "execution_count": 24,
   "id": "584f4b2d",
   "metadata": {},
   "outputs": [
    {
     "name": "stdout",
     "output_type": "stream",
     "text": [
      "    fruit  weight  price\n",
      "2  banana     low      2\n",
      "3   apple    high      3\n",
      "4  orange  medium      4\n",
      "5  banana     low      5\n",
      "6   apple    high      6\n",
      "7  orange  medium      7\n",
      "8  banana     low      8\n"
     ]
    }
   ],
   "source": [
    "# Input\n",
    "df1 = pd.DataFrame({'fruit': ['apple', 'orange', 'banana'] * 3,\n",
    "                    'weight': ['high', 'medium', 'low'] * 3,\n",
    "                    'price': np.arange(9)})\n",
    "\n",
    "df2 = pd.DataFrame({'fruit': ['apple', 'orange', 'pine'] * 2,\n",
    "                    'weight': ['high', 'medium'] * 3,\n",
    "                    'price': np.arange(6)})\n",
    "\n",
    "##### Q27 From df1, remove the rows that are present in df2. All three columns are the same.\n",
    "merged_df = pd.merge(df1, df2, on=['fruit', 'weight', 'price'], how='left', indicator=True)\n",
    "filtered_df1 = merged_df[merged_df['_merge'] == 'left_only'].drop('_merge', axis=1)\n",
    "\n",
    "print(filtered_df1)"
   ]
  },
  {
   "cell_type": "code",
   "execution_count": 25,
   "id": "45b0ad30",
   "metadata": {},
   "outputs": [
    {
     "name": "stdout",
     "output_type": "stream",
     "text": [
      "    a   b   c   d  a_lag1  b_lead1\n",
      "0   7  22  32  79     NaN     61.0\n",
      "1  13  61   5  57     7.0     16.0\n",
      "2  71  16  15  86    13.0     99.0\n",
      "3  90  99  14  81    71.0     39.0\n",
      "4  80  39  86  57    90.0      NaN\n"
     ]
    }
   ],
   "source": [
    "# Input\n",
    "df = pd.DataFrame(np.random.randint(1, 100, 20).reshape(-1, 4), columns = list('abcd'))\n",
    "\n",
    "##### Q28 Create two new columns in df, \n",
    "# one of which is a lag1 (shift column a down by 1 row) of column ‘a’ and \n",
    "# the other is a lead1 (shift column b up by 1 row).\n",
    "\n",
    "#TODO 28\n",
    "df['a_lag1'] = df['a'].shift(1)\n",
    "df['b_lead1'] = df['b'].shift(-1)\n",
    "print(df)"
   ]
  },
  {
   "cell_type": "markdown",
   "id": "2d0ccfc2",
   "metadata": {},
   "source": [
    "### QSet 8  ML Exercise"
   ]
  },
  {
   "cell_type": "code",
   "execution_count": 26,
   "id": "666f21f2",
   "metadata": {},
   "outputs": [
    {
     "name": "stdout",
     "output_type": "stream",
     "text": [
      "Number of features in iris data: 4\n",
      "The size of the iris dataset: 150\n",
      "\n",
      "\n",
      " Perform PCA \n",
      "[[ 2.93808505e+00 -1.90749728e-16]\n",
      " [-1.90749728e-16  9.20164904e-01]]\n",
      "[2.93808505 0.9201649 ]\n"
     ]
    }
   ],
   "source": [
    "import numpy as np\n",
    "import matplotlib.pyplot as plt\n",
    "from sklearn import datasets\n",
    "from sklearn.decomposition import PCA\n",
    "import pandas as pd\n",
    "from sklearn.preprocessing import StandardScaler\n",
    "\n",
    "plt.style.use('ggplot')\n",
    "\n",
    "# Load the data\n",
    "iris = datasets.load_iris()\n",
    "X = iris.data\n",
    "y = iris.target\n",
    "\n",
    "##### Q29 - print the number of features in X and the size of the dataset\n",
    "#TODO 29\n",
    "num_features = X.shape[1]\n",
    "dataset_size = X.shape[0]\n",
    "print(f\"Number of features in iris data: {num_features}\")\n",
    "print(f\"The size of the iris dataset: {dataset_size}\")\n",
    "\n",
    "\n",
    "print(\"\\n\\n Perform PCA \")\n",
    "\n",
    "# Z-score the features\n",
    "scaler = StandardScaler()\n",
    "scaler.fit(X)\n",
    "X = scaler.transform(X)\n",
    "\n",
    "# The PCA model\n",
    "# estimate only 2 PCs\n",
    "pca = PCA(n_components=2) \n",
    "X_new = pca.fit_transform(X) # project the original data into the PCA space\n",
    "\n",
    "print(np.cov(X_new.T))\n",
    "\n",
    "print(pca.explained_variance_)\n"
   ]
  },
  {
   "cell_type": "markdown",
   "id": "7e782371",
   "metadata": {},
   "source": [
    "### QSet 9 plotting ... continued from above cell"
   ]
  },
  {
   "cell_type": "code",
   "execution_count": 27,
   "id": "d5aa3bc5",
   "metadata": {},
   "outputs": [
    {
     "data": {
      "image/png": "[encoded data removed]",
      "text/plain": [
       "<Figure size 1200x500 with 2 Axes>"
      ]
     },
     "metadata": {},
     "output_type": "display_data"
    }
   ],
   "source": [
    "\n",
    "##### Q30 create 2 subplots along X-Axis\n",
    "fig, axes = plt.subplots(1, 2, figsize=(12, 5)) #TODO 30\n",
    "\n",
    "##### Q30 Scatter Plot the first 2 original features in the first subplot\n",
    "axes[0].scatter(X[:, 0], X[:, 1], c=y, edgecolor='k')\n",
    "axes[0].set_xlabel('x1')\n",
    "axes[0].set_ylabel('x2')\n",
    "axes[0].set_title('Before PCA')\n",
    "\n",
    "##### Q30 Scatter Plot the 2 principal components in the second subplot\n",
    "axes[1].scatter(X_new[:, 0], X_new[:, 1], c=y, edgecolor='k')\n",
    "axes[1].set_xlabel('PC1')\n",
    "axes[1].set_ylabel('PC2')\n",
    "axes[1].set_title('After PCA')\n",
    "\n",
    "plt.show()"
   ]
  },
  {
   "cell_type": "code",
   "execution_count": null,
   "id": "6155d782",
   "metadata": {},
   "outputs": [],
   "source": []
  }
 ],
 "metadata": {
  "kernelspec": {
   "display_name": "Python 3 (ipykernel)",
   "language": "python",
   "name": "python3"
  },
  "language_info": {
   "codemirror_mode": {
    "name": "ipython",
    "version": 3
   },
   "file_extension": ".py",
   "mimetype": "text/x-python",
   "name": "python",
   "nbconvert_exporter": "python",
   "pygments_lexer": "ipython3",
   "version": "3.11.5"
  }
 },
 "nbformat": 4,
 "nbformat_minor": 5
}
